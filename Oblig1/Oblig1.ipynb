{
 "cells": [
  {
   "cell_type": "code",
   "execution_count": 1,
   "id": "3da2265d",
   "metadata": {},
   "outputs": [],
   "source": [
    "import numpy as np\n",
    "import matplotlib.pyplot as plt"
   ]
  },
  {
   "cell_type": "code",
   "execution_count": 2,
   "id": "4785f124",
   "metadata": {},
   "outputs": [],
   "source": [
    "n = 30\n",
    "start = -2\n",
    "stop = 2\n",
    "\n",
    "x = np.linspace(start,stop,n)\n",
    "\n",
    "eps = 1\n",
    "np.random.seed(1)\n",
    "r = np.random.rand(1,n) * eps\n",
    "\n",
    "y1 = x*(np.cos(r + 0.5*x**3) + np.sin(0.5*x**3))\n",
    "y2 = y = 4*x**5 - 5*x**4 - 20*x**3 + 10*x**2 + 40*x + 10 + r\n",
    "\n",
    "y1 = np.ravel(y1) # flattens the array to 1D\n",
    "y2 = np.ravel(y2)"
   ]
  },
  {
   "cell_type": "code",
   "execution_count": 3,
   "id": "109dc70d",
   "metadata": {},
   "outputs": [
    {
     "data": {
      "image/png": "[encoded data removed]",
      "text/plain": [
       "<Figure size 1200x400 with 2 Axes>"
      ]
     },
     "metadata": {},
     "output_type": "display_data"
    }
   ],
   "source": [
    "fig, (ax1, ax2) = plt.subplots(nrows=1, ncols=2, figsize=(12, 4))\n",
    "\n",
    "ax1.plot(x, y1, \"o\", label=\"y1\", markerfacecolor='none')\n",
    "ax1.legend()\n",
    "\n",
    "ax2.plot(x, y2, \"o\", label=\"y2\", markerfacecolor='none')\n",
    "ax2.legend()\n",
    "\n",
    "plt.tight_layout()\n",
    "\n",
    "plt.show()\n",
    "plt.close()"
   ]
  },
  {
   "cell_type": "markdown",
   "id": "d7ac98e5",
   "metadata": {},
   "source": [
    "The idea of QR factorisation is that from $\\boldsymbol{Ax} = \\boldsymbol{b}$ we factorize $\\boldsymbol{A}$ into the the orthogonal matrix $\\boldsymbol{Q}$ and the upper triangular matrix $\\boldsymbol{R}$, so that $\\boldsymbol{A} = \\boldsymbol{QR}$, and $\\boldsymbol{Ax} = \\boldsymbol{QRx} = \\boldsymbol{b}$.\n",
    "\n",
    "Since $\\boldsymbol{Q}$ i orthogonal it will be invertible and also have the helpful property of $\\boldsymbol{Q}^{-1} = \\boldsymbol{Q}^{T}$. First we write:\n",
    "$$\n",
    "\\boldsymbol{QRx} = \\boldsymbol{b}\n",
    "$$\n",
    "\n",
    "$$\n",
    "\\boldsymbol{Qy} = \\boldsymbol{b}\n",
    "$$\n",
    "\n",
    "Where $\\boldsymbol{y} = \\boldsymbol{Rx}$. Then we solve:\n",
    "\n",
    "$$\n",
    "\\boldsymbol{Q}^T \\boldsymbol{Qy} = \\boldsymbol{Q}^T \\boldsymbol{b}\n",
    "$$\n",
    "\n",
    "And because of the properties of orthogonal matrices, we have:\n",
    "\n",
    "$$\n",
    "\\boldsymbol{Q}^{-1} \\boldsymbol{Qy} = \\boldsymbol{Q}^T \\boldsymbol{b}\n",
    "$$\n",
    "\n",
    "$$\n",
    "\\boldsymbol{y} = \\boldsymbol{Q}^T \\boldsymbol{b}\n",
    "$$\n",
    "\n",
    "Now, $\\boldsymbol{Q}^T \\boldsymbol{b}$ is solvable by elementary operations, so can find $\\boldsymbol{y}$.\n",
    "\n",
    "From this we can solve $\\boldsymbol{Rx} = \\boldsymbol{y}$ by back substitution."
   ]
  },
  {
   "cell_type": "code",
   "execution_count": 4,
   "id": "c1de534f",
   "metadata": {},
   "outputs": [],
   "source": [
    "# 1. Find QR factorization of matrix A\n",
    "\n",
    "def back_substitution(A, b):\n",
    "    \"\"\"\n",
    "    Calculate x in Ax = b, by using QR factorization to get an upper triangular matrix we can use with back substitution.\n",
    "    \"\"\"\n",
    "    Q, R = np.linalg.qr(A)  # numpy function calculating Q and R\n",
    "\n",
    "    y = Q.T @ b # matrix multiplication between the transpose of Q and vector b\n",
    "\n",
    "    # Prepare R and y for back substitution, to solve: Rx = y.\n",
    "    n = np.shape(R)[0]  # number of rows in R\n",
    "    m = np.shape(R)[1]  # number of columns in R\n",
    "    # Create augmented matrix Ry, shape (n, m+1)\n",
    "    Ry = np.zeros((n, m+1))\n",
    "    Ry[:,:m] = R\n",
    "    Ry[:,-1] = y\n",
    "\n",
    "    # The back substitution\n",
    "    # Solving the system Rx = y for x by back substitution, here by using row operations, Gauss elimination, on the augmented matrix [R y], \n",
    "    # which we turn into [I ~y], having the weight/parameters x = ~y\n",
    "    for i in range(n):\n",
    "        # Staring from the bottom row\n",
    "        # First, find the the diagonal element of R in this row, use it to divide it self and the corresponding row element in y   \n",
    "        pivot = np.copy(Ry[-1-i,-2-i])  # pivot element of row this row\n",
    "                \n",
    "        Ry[-1-i,-2-i] /= pivot          # the pivot element equals it self divided by the pivot element\n",
    "        Ry[-1-i,-1] /= pivot            # the corresponding y value equals it self divided by the pivot element\n",
    "\n",
    "        # Second, make all column elements above the pivot element zero by row operations, also updating y accordingly\n",
    "        p_col = np.copy(Ry[:-1-i,-2-i]) # array of all column elements in column -2-i above row -1-i, -1-i is excluded\n",
    "        y_pivot = np.copy(Ry[-1-i,-1])  # y value corresponding to pivot element\n",
    "\n",
    "        # add the negative value of it self for all elements above pivot\n",
    "        Ry[:-1-i,-2-i] = Ry[:-1-i,-2-i] + (-1.0*p_col)\n",
    "        \n",
    "        # for each y element above y_pivot, add the value of: y_pivot times the same value used above for det pivot row,\n",
    "        # this corresponds to the same row operations the pivot makes\n",
    "        Ry[:-1-i,-1] = Ry[:-1-i,-1] + (-1.0*p_col*y_pivot)\n",
    "    \n",
    "    x = Ry[:,-1]\n",
    "    return x"
   ]
  },
  {
   "cell_type": "code",
   "execution_count": null,
   "id": "e76eb35e",
   "metadata": {},
   "outputs": [
    {
     "name": "stdout",
     "output_type": "stream",
     "text": [
      "[18.23216626 23.01160621 -8.27883947 -1.16341095]\n"
     ]
    },
    {
     "data": {
      "text/plain": [
       "[<matplotlib.lines.Line2D at 0x1ba229eb390>]"
      ]
     },
     "execution_count": 5,
     "metadata": {},
     "output_type": "execute_result"
    },
    {
     "data": {
      "image/png": "[encoded data removed]",
      "text/plain": [
       "<Figure size 640x480 with 1 Axes>"
      ]
     },
     "metadata": {},
     "output_type": "display_data"
    }
   ],
   "source": [
    "from sklearn.preprocessing import PolynomialFeatures\n",
    "\n",
    "poly = PolynomialFeatures(3)    # create a feature matrix containing the columns [1, x, x^2, x^3]\n",
    "A = poly.fit_transform(x.reshape(-1,1))\n",
    "#print(A)\n",
    "xA = back_substitution(A, y2)\n",
    "print(xA)\n",
    "pred = A @ xA\n",
    "\n",
    "plt.plot(A[:,1], pred, \"--\")\n",
    "plt.plot(x, y2, \".\")"
   ]
  },
  {
   "cell_type": "code",
   "execution_count": 8,
   "id": "a80f88d3",
   "metadata": {},
   "outputs": [],
   "source": [
    "# 2. Solve the normal equation using Cholesky factorization\n",
    "\n",
    "def cholesky_factorization(A):\n",
    "    \"\"\"\n",
    "    Decomposes A into a lower triangular matrix L, the diagonal matrix D, and the upper triangular matrix L.transpose\n",
    "    In this case, A must be symmetric, and can't have non zero entries along the diagonal.\n",
    "    Returns L, D and the transposed of L \n",
    "    \"\"\"\n",
    "    # First a LDL.T composition.\n",
    "    if np.shape(A)[0] != np.shape(A)[1]:\n",
    "        raise ValueError(\"A must be square\")\n",
    "\n",
    "    n = np.shape(A)[1]  # the number of columns in A    \n",
    "    L = np.zeros([n ,n])\n",
    "    D = np.zeros([n, n])\n",
    "\n",
    "    A_current = np.array(A, dtype=float)    # so to not cause int error further down the code\n",
    "    for k in range(n):\n",
    "        L[:,k] = np.copy(A_current[:,k])    # the k-th column of L equals the k-th column of A\n",
    "        \n",
    "        if L[k,k] == 0:\n",
    "            raise ValueError(\"Matrix A might be singular or not positive definite.\")    # Also prevent division by zero bellow\n",
    "        \n",
    "        L[:,k] /= L[k,k]                    # scale the k-th column of L with the diagonal element L[k,k]\n",
    "        D[k,k] = A_current[k,k]\n",
    "        A_current -= D[k,k]*np.outer(L[:,k], L[:,k].T)\n",
    "\n",
    "    # The Cholesky factorization A = RR.T\n",
    "    R = L @ np.sqrt(D)\n",
    "    \n",
    "    return R, R.T\n",
    "\n",
    "\n",
    "\n",
    "def forward_substitution(A, b):\n",
    "    \"\"\"\n",
    "    Calculate x in Ax = b, where A is an lower triangular matrix, by forward substitution.\n",
    "    Take lower triangular matrix A, and vector B.\n",
    "    Return column vector x.\n",
    "    Following the example in the book this time\n",
    "    \"\"\"\n",
    "\n",
    "    n = A.shape[0]\n",
    "    m = A.shape[1]\n",
    "    if n != m:\n",
    "        raise ValueError(\"A is not a square matrix\")\n",
    "    \n",
    "    if len(b) != n:\n",
    "        raise ValueError(f\"b must be a vector of length {n}\")\n",
    "    \n",
    "    x = np.zeros(len(n))\n",
    "\n",
    "    if abs(A[0,0]) > 1e-12:\n",
    "        x[0] = b[0]/A[0,0]\n",
    "    else:\n",
    "        raise ValueError(\"Diagonal element A[0,0] is zero\")\n",
    "    \n",
    "    for i in range(1, n):\n",
    "        if A[i,i] > 1e-12:\n",
    "\n",
    "            temp = 0\n",
    "            for j in range(0, i):\n",
    "                temp = temp + A[i,j] * x[j]\n",
    "            \n",
    "            x[i] = (b[i - temp/A[i,i]])\n",
    "        else:\n",
    "            raise ValueError(f\"Diagonal element A[{i},{i}] is zero\")\n",
    "\n",
    "    return x"
   ]
  },
  {
   "cell_type": "code",
   "execution_count": 7,
   "id": "5072e06e",
   "metadata": {},
   "outputs": [
    {
     "name": "stdout",
     "output_type": "stream",
     "text": [
      "[[3. 4.]\n",
      " [4. 6.]]\n"
     ]
    }
   ],
   "source": [
    "A = np.array([[3, 4], [4, 6]])\n",
    "\n",
    "R, RT = cholesky_factorization(A)\n",
    "print(R @ R.T)"
   ]
  },
  {
   "cell_type": "markdown",
   "id": "455a8134",
   "metadata": {},
   "source": [
    "In the second example we look at the closed form solution to the sum of squard errors between the predicted values and data, in other words the <i>normal equation</i>:\n",
    "$$\n",
    "\\boldsymbol{A}^T \\boldsymbol{A} \\boldsymbol{x} = \\boldsymbol{A}^T \\boldsymbol{b}\n",
    "$$\n",
    "\n",
    "We then set $\\boldsymbol{B} = \\boldsymbol{A}^T \\boldsymbol{A}$, and do a Cholesky factorization, first by having $ \\boldsymbol{B} = \\boldsymbol{L} \\boldsymbol{D} \\boldsymbol{L}^T$, where $\\boldsymbol{L}$ is a lower triangular matrix and $\\boldsymbol{D}$ a diagonal matrix, then since $\\boldsymbol{B}$ is positive definite, $\\boldsymbol{D}$ will have no negative or zero entries along the diagonal, so we can write: $\\boldsymbol{D} = \\boldsymbol{D}^{1/2} \\boldsymbol{D}^{1/2}$, where $(\\boldsymbol{D}^{1/2})_{k,k} = \\sqrt{D_{k,k}}$. We have:\n",
    "$$\n",
    "\\boldsymbol{B} = \\boldsymbol{L} \\boldsymbol{D}^{1/2} \\boldsymbol{D}^{1/2} \\boldsymbol{L}^T = (\\boldsymbol{L} \\boldsymbol{D}^{1/2}) \\left( \\boldsymbol{L} ((\\boldsymbol{D}^{1/2}))^T \\right)^T\n",
    "$$\n",
    "\n",
    "Which, do to $\\boldsymbol{D}$ being a diagonal matrix - thus invariant under transposition: $\\boldsymbol{D}^T = \\boldsymbol{D}$, can be written:\n",
    "$$\n",
    "B = \\boldsymbol{L} \\boldsymbol{D}^{1/2} \\left( \\boldsymbol{L} \\boldsymbol{D}^{1/2} \\right)^T\n",
    "$$\n",
    "\n",
    "Sometimes written, with $\\boldsymbol{R} = \\boldsymbol{L} \\boldsymbol{D}^{1/2}$, so that:\n",
    "$$\n",
    "\\boldsymbol{B} = \\boldsymbol{R} \\boldsymbol{R}^T \n",
    "$$\n",
    " \n",
    "The entries in $\\boldsymbol{L}$ is only scaled by multiplying with $\\boldsymbol{D}^{1/2}$, so $\\boldsymbol{R}$ remains lower triangular, while $\\boldsymbol{R}^T$ is upper triangular. This lets us go from:\n",
    "$$\n",
    "\\boldsymbol{B} \\boldsymbol{x} = \\boldsymbol{A}^T \\boldsymbol{b}\n",
    "$$\n",
    "\n",
    "To:\n",
    "$$\n",
    "\\boldsymbol{R} \\boldsymbol{R}^T \\boldsymbol{x} = \\boldsymbol{A}^T \\boldsymbol{b}\n",
    "$$\n",
    "\n",
    "And like before we solve this in two steps, first by making the substitution $\\boldsymbol{R}^T \\boldsymbol{x} = y$:\n",
    "$$\n",
    "\\boldsymbol{R} \\boldsymbol{y} = \\boldsymbol{A}^T \\boldsymbol{b}\n",
    "$$\n",
    "\n",
    "Solving for $\\boldsymbol{y}$ through <u>forward substitution</u> (since $\\boldsymbol{R}$ i lower triangular, and $\\boldsymbol{A}^T \\boldsymbol{b}$ easily can be computed), and then once we have $\\boldsymbol{y}$ we can solve:\n",
    "$$\n",
    "\\boldsymbol{R}^T \\boldsymbol{x} = y\n",
    "$$\n",
    "through <u>back substitution</u> (since $\\boldsymbol{R}^T$ is upper triangular), finally obtaining $\\boldsymbol{x}$."
   ]
  }
 ],
 "metadata": {
  "kernelspec": {
   "display_name": "base",
   "language": "python",
   "name": "python3"
  },
  "language_info": {
   "codemirror_mode": {
    "name": "ipython",
    "version": 3
   },
   "file_extension": ".py",
   "mimetype": "text/x-python",
   "name": "python",
   "nbconvert_exporter": "python",
   "pygments_lexer": "ipython3",
   "version": "3.13.5"
  }
 },
 "nbformat": 4,
 "nbformat_minor": 5
}
