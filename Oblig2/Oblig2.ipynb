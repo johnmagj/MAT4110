{
 "cells": [
  {
   "cell_type": "markdown",
   "id": "9a3cdb1c",
   "metadata": {},
   "source": [
    "# Oblig 2.\n",
    "\n",
    "## MAT4110\n",
    "\n",
    "### John-Magnus Johnsen\n",
    "\n",
    "##### Thursday 25. september 2025"
   ]
  }
 ],
 "metadata": {
  "kernelspec": {
   "display_name": "base",
   "language": "python",
   "name": "python3"
  },
  "language_info": {
   "codemirror_mode": {
    "name": "ipython",
    "version": 3
   },
   "file_extension": ".py",
   "mimetype": "text/x-python",
   "name": "python",
   "nbconvert_exporter": "python",
   "pygments_lexer": "ipython3",
   "version": "3.13.5"
  }
 },
 "nbformat": 4,
 "nbformat_minor": 5
}
